{
 "cells": [
  {
   "cell_type": "markdown",
   "metadata": {},
   "source": [
    "# Логистическая регрессия"
   ]
  },
  {
   "cell_type": "code",
   "execution_count": 122,
   "metadata": {},
   "outputs": [],
   "source": [
    "import pandas as pd\n",
    "from sklearn.linear_model import LogisticRegression \n",
    "from sklearn.preprocessing import StandardScaler\n",
    "from sklearn.model_selection import KFold, cross_val_score \n",
    "from sklearn.pipeline import make_pipeline \n",
    "import matplotlib.pyplot as plt \n",
    "from sklearn.metrics import roc_curve, roc_auc_score \n",
    "from sklearn.model_selection import train_test_split\n",
    "\n",
    "# Проводим подготовку данных.\n",
    "df = pd.read_csv(\"data.csv\")\n",
    "\n",
    "# Входные значения признаков.\n",
    "features = df.drop(\"class\", axis=1)\n",
    "features = pd.get_dummies(features)\n",
    "\n",
    "# Целевые значения.\n",
    "target = df[\"class\"]\n",
    "target = target.replace({'Negative': 0, 'Positive': 1})"
   ]
  },
  {
   "cell_type": "code",
   "execution_count": 123,
   "metadata": {},
   "outputs": [
    {
     "name": "stdout",
     "output_type": "stream",
     "text": [
      "     Age  Gender_Female  Gender_Male  Polyuria_No  Polyuria_Yes  \\\n",
      "0     40          False         True         True         False   \n",
      "1     58          False         True         True         False   \n",
      "2     41          False         True        False          True   \n",
      "3     45          False         True         True         False   \n",
      "4     60          False         True        False          True   \n",
      "..   ...            ...          ...          ...           ...   \n",
      "515   39           True        False        False          True   \n",
      "516   48           True        False        False          True   \n",
      "517   58           True        False        False          True   \n",
      "518   32           True        False         True         False   \n",
      "519   42          False         True         True         False   \n",
      "\n",
      "     Polydipsia_No  Polydipsia_Yes  sudden weight loss_No  \\\n",
      "0            False            True                   True   \n",
      "1             True           False                   True   \n",
      "2             True           False                   True   \n",
      "3             True           False                  False   \n",
      "4            False            True                  False   \n",
      "..             ...             ...                    ...   \n",
      "515          False            True                  False   \n",
      "516          False            True                  False   \n",
      "517          False            True                  False   \n",
      "518           True           False                   True   \n",
      "519           True           False                   True   \n",
      "\n",
      "     sudden weight loss_Yes  weakness_No  ...  delayed healing_No  \\\n",
      "0                     False        False  ...               False   \n",
      "1                     False        False  ...                True   \n",
      "2                     False        False  ...               False   \n",
      "3                      True        False  ...               False   \n",
      "4                      True        False  ...               False   \n",
      "..                      ...          ...  ...                 ...   \n",
      "515                    True         True  ...               False   \n",
      "516                    True        False  ...               False   \n",
      "517                    True        False  ...                True   \n",
      "518                   False        False  ...               False   \n",
      "519                   False         True  ...                True   \n",
      "\n",
      "     delayed healing_Yes  partial paresis_No  partial paresis_Yes  \\\n",
      "0                   True                True                False   \n",
      "1                  False               False                 True   \n",
      "2                   True                True                False   \n",
      "3                   True                True                False   \n",
      "4                   True               False                 True   \n",
      "..                   ...                 ...                  ...   \n",
      "515                 True               False                 True   \n",
      "516                 True               False                 True   \n",
      "517                False               False                 True   \n",
      "518                 True                True                False   \n",
      "519                False                True                False   \n",
      "\n",
      "     muscle stiffness_No  muscle stiffness_Yes  Alopecia_No  Alopecia_Yes  \\\n",
      "0                  False                  True        False          True   \n",
      "1                   True                 False        False          True   \n",
      "2                  False                  True        False          True   \n",
      "3                   True                 False         True         False   \n",
      "4                  False                  True        False          True   \n",
      "..                   ...                   ...          ...           ...   \n",
      "515                 True                 False         True         False   \n",
      "516                 True                 False         True         False   \n",
      "517                False                  True         True         False   \n",
      "518                 True                 False        False          True   \n",
      "519                 True                 False         True         False   \n",
      "\n",
      "     Obesity_No  Obesity_Yes  \n",
      "0         False         True  \n",
      "1          True        False  \n",
      "2          True        False  \n",
      "3          True        False  \n",
      "4         False         True  \n",
      "..          ...          ...  \n",
      "515        True        False  \n",
      "516        True        False  \n",
      "517       False         True  \n",
      "518        True        False  \n",
      "519        True        False  \n",
      "\n",
      "[520 rows x 31 columns]\n"
     ]
    }
   ],
   "source": [
    "print(features)"
   ]
  },
  {
   "cell_type": "code",
   "execution_count": 124,
   "metadata": {},
   "outputs": [
    {
     "name": "stdout",
     "output_type": "stream",
     "text": [
      "0      1\n",
      "1      1\n",
      "2      1\n",
      "3      1\n",
      "4      1\n",
      "      ..\n",
      "515    1\n",
      "516    1\n",
      "517    1\n",
      "518    0\n",
      "519    0\n",
      "Name: class, Length: 520, dtype: int64\n"
     ]
    }
   ],
   "source": [
    "print(target)"
   ]
  },
  {
   "cell_type": "code",
   "execution_count": 125,
   "metadata": {},
   "outputs": [
    {
     "name": "stdout",
     "output_type": "stream",
     "text": [
      "Модель: [[-0.02392891  1.85261777 -1.30130705 -1.31408256  1.86539328 -1.43829482\n",
      "   1.98960554  0.05137658  0.49993415 -0.01121436  0.56252509 -0.10883327\n",
      "   0.66014399 -0.37600199  0.92731272 -0.00559319  0.55690391  1.13756892\n",
      "  -0.5862582  -0.58358934  1.13490007  0.51167921  0.03963151 -0.1882405\n",
      "   0.73955122  0.51611747  0.03519326  0.34925763  0.2020531   0.37636188\n",
      "   0.17494884]]\n"
     ]
    }
   ],
   "source": [
    "logit = LogisticRegression(solver=\"liblinear\")\n",
    "logit.fit(features, target)\n",
    "\n",
    "print(\"Модель:\", logit.coef_)"
   ]
  },
  {
   "cell_type": "markdown",
   "metadata": {},
   "source": [
    "## Перекрестная проверка"
   ]
  },
  {
   "cell_type": "code",
   "execution_count": 126,
   "metadata": {},
   "outputs": [
    {
     "name": "stdout",
     "output_type": "stream",
     "text": [
      "Итерация 1: 0.9230769230769231\n",
      "Итерация 2: 0.9615384615384616\n",
      "Итерация 3: 0.9230769230769231\n",
      "Итерация 4: 0.9615384615384616\n",
      "Итерация 5: 0.9230769230769231\n",
      "Итерация 6: 0.9423076923076923\n",
      "Итерация 7: 0.8846153846153846\n",
      "Итерация 8: 0.9423076923076923\n",
      "Итерация 9: 0.8846153846153846\n",
      "Итерация 10: 0.8653846153846154\n",
      "Среднее значение перекрестной проверки: 0.9211538461538462\n"
     ]
    }
   ],
   "source": [
    "# Кросс-валидация.\n",
    "kf = KFold(n_splits=10, shuffle=True, random_state=1)\n",
    "\n",
    "cv_results = cross_val_score(logit, # Модель\n",
    "    features_standardized, # Матрица признаков\n",
    "    target, # Вектор целей\n",
    "    cv=kf, # Метод перекрестной проверки\n",
    "    scoring=\"accuracy\", # Функция потери\n",
    "    n_jobs=-1\n",
    ") \n",
    "\n",
    "for index, value in enumerate(cv_results):\n",
    "    print(f\"Итерация {index + 1}: {value}\")\n",
    "\n",
    "cv_results_mean = cv_results.mean()\n",
    "print(f\"Среднее значение перекрестной проверки: {cv_results_mean}\")"
   ]
  },
  {
   "cell_type": "markdown",
   "metadata": {},
   "source": [
    "## ROC-кривая"
   ]
  },
  {
   "cell_type": "code",
   "execution_count": 128,
   "metadata": {},
   "outputs": [
    {
     "name": "stdout",
     "output_type": "stream",
     "text": [
      "0.98003125\n"
     ]
    },
    {
     "data": {
      "image/png": "[encoded data removed]",
      "text/plain": [
       "<Figure size 640x480 with 1 Axes>"
      ]
     },
     "metadata": {},
     "output_type": "display_data"
    }
   ],
   "source": [
    "target_probabilities = logit.predict_proba(features)[:,1]\n",
    "false_positive_rate, true_positive_rate, threshold = roc_curve(target, target_probabilities)\n",
    "auc = roc_auc_score(target, target_probabilities)\n",
    "\n",
    "print(auc)\n",
    "\n",
    "plt.title(\"Кривая ROC\")\n",
    "plt.plot(false_positive_rate, true_positive_rate)\n",
    "plt.plot([0, 1], ls=\"--\")\n",
    "plt.xlabel(\"Доля ложноположительных исходов\")\n",
    "plt.ylabel(\"Доля истинноположительных исходов\")  \n",
    "plt.show()"
   ]
  }
 ],
 "metadata": {
  "kernelspec": {
   "display_name": "Python 3",
   "language": "python",
   "name": "python3"
  },
  "language_info": {
   "codemirror_mode": {
    "name": "ipython",
    "version": 3
   },
   "file_extension": ".py",
   "mimetype": "text/x-python",
   "name": "python",
   "nbconvert_exporter": "python",
   "pygments_lexer": "ipython3",
   "version": "3.11.5"
  }
 },
 "nbformat": 4,
 "nbformat_minor": 2
}
